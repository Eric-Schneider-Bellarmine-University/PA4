{
 "cells": [
  {
   "cell_type": "markdown",
   "id": "3677f100",
   "metadata": {},
   "source": [
    "# Programming Assignment 4\n",
    "### Eric Schneider\n",
    "##### Version 1\n",
    "##### CS-150 Fall 2021 Semester"
   ]
  },
  {
   "cell_type": "markdown",
   "id": "5f4f11d3",
   "metadata": {},
   "source": [
    "### A: Built in functions for lists."
   ]
  },
  {
   "cell_type": "markdown",
   "id": "51842abf",
   "metadata": {},
   "source": [
    "I. append(): A function which takes a single entity and adds it to the end of the designated list"
   ]
  },
  {
   "cell_type": "code",
   "execution_count": 1,
   "id": "387ae48c",
   "metadata": {},
   "outputs": [
    {
     "name": "stdout",
     "output_type": "stream",
     "text": [
      "[6, 'added to end of the list']\n"
     ]
    }
   ],
   "source": [
    "base_list=[]\n",
    "base_list.append(6)\n",
    "base_list.append('added to end of the list')\n",
    "print(base_list)"
   ]
  },
  {
   "cell_type": "markdown",
   "id": "34141cd0",
   "metadata": {},
   "source": [
    "II. extend(): A function which takes multiple entities in a list and adds each entity to the end of the designated list. Each entity recieves a separate index in the list rather than simply appending the list itself."
   ]
  },
  {
   "cell_type": "code",
   "execution_count": 2,
   "id": "2b063bfc",
   "metadata": {},
   "outputs": [
    {
     "name": "stdout",
     "output_type": "stream",
     "text": [
      "[5, 3, 2, 1, 4, 53, 'all will be added']\n"
     ]
    }
   ],
   "source": [
    "base_list=[]\n",
    "base_list.extend([5,3,2,1,4,53,'all will be added'])\n",
    "print(base_list)"
   ]
  },
  {
   "cell_type": "markdown",
   "id": "a2614511",
   "metadata": {},
   "source": [
    "III. insert(): A function which takes a single entity and adds it to a designated index in the designated list. Any index given which is larger than the length of the list will result in the entity simply being added to the end."
   ]
  },
  {
   "cell_type": "code",
   "execution_count": 5,
   "id": "ca361113",
   "metadata": {},
   "outputs": [
    {
     "name": "stdout",
     "output_type": "stream",
     "text": [
      "[0, 1, 2, 3, 4, 5, 6, 7, 8, 'added at index 9', 9]\n"
     ]
    }
   ],
   "source": [
    "base_list=[0,1,2,3,4,5,6,7,8,9]\n",
    "base_list.insert(9,'added at index 9')\n",
    "print(base_list)"
   ]
  },
  {
   "cell_type": "markdown",
   "id": "dea37791",
   "metadata": {},
   "source": [
    "IV. remove(): A function which takes an index from the designated list and removes it. An index which is outside of the length of the list will result in an error"
   ]
  },
  {
   "cell_type": "code",
   "execution_count": 8,
   "id": "f7fea7b4",
   "metadata": {},
   "outputs": [
    {
     "name": "stdout",
     "output_type": "stream",
     "text": [
      "[0, 2, 3, 4, 5, 6, 7, 8, 9]\n"
     ]
    }
   ],
   "source": [
    "base_list=[0,1,2,3,4,5,6,7,8,9]\n",
    "base_list.remove(1)\n",
    "print(base_list)"
   ]
  },
  {
   "cell_type": "markdown",
   "id": "61996e85",
   "metadata": {},
   "source": [
    "V. count(): Takes an entity and returns the count of that entity in the designated list."
   ]
  },
  {
   "cell_type": "code",
   "execution_count": 9,
   "id": "34d9bd40",
   "metadata": {},
   "outputs": [
    {
     "name": "stdout",
     "output_type": "stream",
     "text": [
      "7\n"
     ]
    }
   ],
   "source": [
    "base_list=[0,0,1,2,3,4,5,6,7,0,0,0,0,0]\n",
    "print(base_list.count(0))"
   ]
  },
  {
   "cell_type": "markdown",
   "id": "c8fe52f6",
   "metadata": {},
   "source": [
    "VI. index(): takes an entity and returns the index of that entity in the designated list. If multiple of the entity is in the list, the function will return the index of the first occurance"
   ]
  },
  {
   "cell_type": "code",
   "execution_count": 10,
   "id": "fc64a444",
   "metadata": {},
   "outputs": [
    {
     "name": "stdout",
     "output_type": "stream",
     "text": [
      "0\n"
     ]
    }
   ],
   "source": [
    "base_list=[0,1,2,4,3,4,5,6,4,3,5,0,0,0,0,0,0,0,0,0]\n",
    "print(base_list.index(0))"
   ]
  },
  {
   "cell_type": "markdown",
   "id": "35088af9",
   "metadata": {},
   "source": [
    "VII. pop():takes the entiry of a designated index and transfers it out of the designated list. Can then be designated as a part of a new entity. If no index is given the function will default to popping the last entity of the list"
   ]
  },
  {
   "cell_type": "code",
   "execution_count": 12,
   "id": "4bba3710",
   "metadata": {},
   "outputs": [
    {
     "name": "stdout",
     "output_type": "stream",
     "text": [
      "0\n",
      "9\n",
      "[1, 2, 3, 4, 5, 6, 7, 8]\n"
     ]
    }
   ],
   "source": [
    "base_list=[0,1,2,3,4,5,6,7,8,9]\n",
    "a=base_list.pop(0)\n",
    "b=base_list.pop()\n",
    "print(a)\n",
    "print(b)\n",
    "print(base_list)"
   ]
  },
  {
   "cell_type": "markdown",
   "id": "32df9a7e",
   "metadata": {},
   "source": [
    "VIII. sorted(): Will temporarily sort the entities in a designated list, creating a new list entity and leaving the original unchanged. It's counterpart .sort() will permanently sort the designated list."
   ]
  },
  {
   "cell_type": "code",
   "execution_count": 18,
   "id": "a0e88635",
   "metadata": {},
   "outputs": [
    {
     "name": "stdout",
     "output_type": "stream",
     "text": [
      "[0, 0, 1, 2, 3, 3, 3, 4, 4, 4, 4, 5, 5, 5, 6, 6, 7, 8, 9]\n",
      "[0, 1, 2, 4, 3, 4, 5, 6, 7, 8, 9, 0, 6, 4, 5, 3, 5, 3, 4]\n"
     ]
    }
   ],
   "source": [
    "base_list=[0,1,2,4,3,4,5,6,7,8,9,0,6,4,5,3,5,3,4]\n",
    "a=sorted(base_list)\n",
    "print(a)\n",
    "print(base_list)"
   ]
  },
  {
   "cell_type": "markdown",
   "id": "0b527480",
   "metadata": {},
   "source": [
    "IX. copy(): Copies a designated list into a separate list entity."
   ]
  },
  {
   "cell_type": "code",
   "execution_count": 24,
   "id": "d3258092",
   "metadata": {},
   "outputs": [
    {
     "name": "stdout",
     "output_type": "stream",
     "text": [
      "[1, 2, 6, 8, 4, 5, 4, 53, 53, 53, 54, 5, 43, 5]\n"
     ]
    }
   ],
   "source": [
    "base_list=[0,1,2,4,3,4,5,6,7,8,9]\n",
    "a=base_list.copy()\n",
    "print(a)"
   ]
  },
  {
   "cell_type": "markdown",
   "id": "8ae0e5ee",
   "metadata": {},
   "source": [
    "X. clear(): Will clear every entity in a designated list."
   ]
  },
  {
   "cell_type": "code",
   "execution_count": 26,
   "id": "d5089b39",
   "metadata": {},
   "outputs": [
    {
     "name": "stdout",
     "output_type": "stream",
     "text": [
      "[0, 1, 2, 4, 3, 4, 5, 6, 7, 8, 9]\n",
      "[]\n"
     ]
    }
   ],
   "source": [
    "base_list=[0,1,2,4,3,4,5,6,7,8,9]\n",
    "print(base_list)\n",
    "base_list.clear()\n",
    "print(base_list)"
   ]
  },
  {
   "cell_type": "markdown",
   "id": "b04bef04",
   "metadata": {},
   "source": [
    "XI. any(): returna a boolean object related to the boolean summation of the designated list. In other word, if only one of the entities in a list can be designated as true, the function will return true. Its counterpart all() will check all entities of the designated list, meaning all entities must be true to return true."
   ]
  },
  {
   "cell_type": "code",
   "execution_count": 29,
   "id": "7a46f3a6",
   "metadata": {},
   "outputs": [
    {
     "name": "stdout",
     "output_type": "stream",
     "text": [
      "True\n",
      "False\n"
     ]
    }
   ],
   "source": [
    "base_list=[0,1,2,4,3,4,5,6,7,8,9]\n",
    "print(any(base_list))\n",
    "print(all(base_list))"
   ]
  },
  {
   "cell_type": "markdown",
   "id": "1e218e42",
   "metadata": {},
   "source": [
    "XII. filter(): returns the object class of the list of entities which return true when entered into a separate function. Must be changed back into a list after filtering."
   ]
  },
  {
   "cell_type": "code",
   "execution_count": 36,
   "id": "a82f12a9",
   "metadata": {},
   "outputs": [
    {
     "name": "stdout",
     "output_type": "stream",
     "text": [
      "<filter object at 0x000001ADF8944AC0>\n"
     ]
    }
   ],
   "source": [
    "base_list=[0,1,2,4,3,4,5,6,7,8,9]\n",
    "x=lambda a: a<=7\n",
    "print((filter(x,base_list)))"
   ]
  },
  {
   "cell_type": "markdown",
   "id": "e61a6127",
   "metadata": {},
   "source": [
    "XIII. list(): turns a designated entity into a list entity"
   ]
  },
  {
   "cell_type": "code",
   "execution_count": 37,
   "id": "38d3a308",
   "metadata": {},
   "outputs": [
    {
     "name": "stdout",
     "output_type": "stream",
     "text": [
      "[0, 1, 2, 4, 3, 4, 5, 6, 7]\n"
     ]
    }
   ],
   "source": [
    "base_list=[0,1,2,4,3,4,5,6,7,8,9]\n",
    "x=lambda a: a<=7\n",
    "print(list(filter(x,base_list)))"
   ]
  },
  {
   "cell_type": "markdown",
   "id": "1e6977ad",
   "metadata": {},
   "source": [
    "XIV. map(): returns the iterable of booleans based on what would be returned from the designated list's entities when passed through a function. Must be turned back into a list class to view."
   ]
  },
  {
   "cell_type": "code",
   "execution_count": 39,
   "id": "caeb9eeb",
   "metadata": {},
   "outputs": [
    {
     "name": "stdout",
     "output_type": "stream",
     "text": [
      "[True, True, True, True, True, True, True, True, True, False, False]\n"
     ]
    }
   ],
   "source": [
    "base_list=[0,1,2,4,3,4,5,6,7,8,9]\n",
    "x=lambda a: a<=7\n",
    "print(list(map(x,base_list)))"
   ]
  },
  {
   "cell_type": "markdown",
   "id": "38b105bf",
   "metadata": {},
   "source": [
    "### B. Built in fnctions for tuples"
   ]
  },
  {
   "cell_type": "markdown",
   "id": "9efb7ff1",
   "metadata": {},
   "source": [
    "I. cmp(): Takes two tuples and compares the two, returning either -1, 0, or 1 depending on if the first entity is less than, the same as or larger than the second. if a tuple doesnt contain numbers it will count letters bigger than numbers. If both tuples contain only letters it will check with the strings sorted alphabetically. Unfortunately. there is no way to show an example as the cmp function does not exist in python 3."
   ]
  },
  {
   "cell_type": "markdown",
   "id": "94365c4e",
   "metadata": {},
   "source": [
    "II. len(): Returns to length of the designated list or tuple"
   ]
  },
  {
   "cell_type": "code",
   "execution_count": 53,
   "id": "018d36e5",
   "metadata": {},
   "outputs": [
    {
     "name": "stdout",
     "output_type": "stream",
     "text": [
      "10\n"
     ]
    }
   ],
   "source": [
    "base_tuple=(0,1,2,3,4,5,6,7,8,9)\n",
    "print(len(base_tuple))"
   ]
  },
  {
   "cell_type": "markdown",
   "id": "84a657ed",
   "metadata": {},
   "source": [
    "III. max():  Returns  the largest entity in the designated list or tuple"
   ]
  },
  {
   "cell_type": "code",
   "execution_count": 50,
   "id": "8c6c3cbe",
   "metadata": {},
   "outputs": [
    {
     "name": "stdout",
     "output_type": "stream",
     "text": [
      "9\n"
     ]
    }
   ],
   "source": [
    "base_tuple=(0,1,2,3,4,5,6,7,8,9)\n",
    "print(max(base_tuple))"
   ]
  },
  {
   "cell_type": "markdown",
   "id": "38b25243",
   "metadata": {},
   "source": [
    "IV. tuple(seq): Takes a list of sequences and converts them into a tuple."
   ]
  },
  {
   "cell_type": "code",
   "execution_count": 51,
   "id": "61ea5239",
   "metadata": {},
   "outputs": [
    {
     "name": "stdout",
     "output_type": "stream",
     "text": [
      "(0, 1, 2, 3, 4, 5, 6, 7, 8, 9)\n"
     ]
    }
   ],
   "source": [
    "base_list=[0,1,2,3,4,5,6,7,8,9]\n",
    "print(tuple(base_list))"
   ]
  },
  {
   "cell_type": "markdown",
   "id": "690fad50",
   "metadata": {},
   "source": [
    "## Bonus Exercises"
   ]
  },
  {
   "cell_type": "markdown",
   "id": "058d9431",
   "metadata": {},
   "source": [
    "### 1. Write a function called rotate() that will accept a three-element tuple as an argument and then rotates the tuple. For example if the tuple contains (‘John’,’Kennedy’,41) the rotation should be (41,‘John’,’Kennedy’). Your function should return the tuple unpacked into individual variables: a, b, c.\n"
   ]
  },
  {
   "cell_type": "code",
   "execution_count": 56,
   "id": "5dbf0849",
   "metadata": {},
   "outputs": [
    {
     "name": "stdout",
     "output_type": "stream",
     "text": [
      "(323.5, 4.5, True, [5, 'red', 5], 5, 'fds', 5, 4, 2)\n"
     ]
    }
   ],
   "source": [
    "def rotate(entity):\n",
    "    rotated_list=[]\n",
    "    for items in entity:\n",
    "        rotated_list.insert(0,items)\n",
    "    return tuple(rotated_list)\n",
    "print(rotate((2,4,5,'fds',5,[5,'red',5],True,4.5,323.5)))"
   ]
  },
  {
   "cell_type": "markdown",
   "id": "4a146f1d",
   "metadata": {},
   "source": [
    "### 2.Write a function called encode() that will accept a list as an argument and return a copy of the list with all even numbers replaced by 1 and all odd numbers replaced by -1. For example, if your list is [49, 28, 23, 40, 72, 93, 68, 19, 64, 70], your function should return [-1, 1, -1, 1, 1, -1, 1, -1, 1, 1]. Your list should be comprised of random numbers between 1 and 100."
   ]
  },
  {
   "cell_type": "code",
   "execution_count": 58,
   "id": "ae0ddf74",
   "metadata": {},
   "outputs": [
    {
     "name": "stdout",
     "output_type": "stream",
     "text": [
      "[30, 91, 89, 66, 100, 18, 91, 97, 92, 54, 95, 59, 55, 37, 84, 18, 37, 71, 74, 45]\n",
      "[1, -1, -1, 1, 1, 1, -1, -1, 1, 1, -1, -1, -1, -1, 1, 1, -1, -1, 1, -1]\n"
     ]
    }
   ],
   "source": [
    "import random\n",
    "\n",
    "def encode():\n",
    "    start_list=[random.randint(1,101) for numbers in range(20)]\n",
    "    end_list=[]\n",
    "    print(start_list)\n",
    "    for items in start_list:\n",
    "        end_list.append(1 if not items%2 else -1)\n",
    "    return end_list\n",
    "print(encode())"
   ]
  },
  {
   "cell_type": "code",
   "execution_count": null,
   "id": "27fab023",
   "metadata": {},
   "outputs": [],
   "source": []
  }
 ],
 "metadata": {
  "kernelspec": {
   "display_name": "Python 3",
   "language": "python",
   "name": "python3"
  },
  "language_info": {
   "codemirror_mode": {
    "name": "ipython",
    "version": 3
   },
   "file_extension": ".py",
   "mimetype": "text/x-python",
   "name": "python",
   "nbconvert_exporter": "python",
   "pygments_lexer": "ipython3",
   "version": "3.8.8"
  }
 },
 "nbformat": 4,
 "nbformat_minor": 5
}
